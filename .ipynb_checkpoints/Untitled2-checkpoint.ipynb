{
 "cells": [
  {
   "cell_type": "code",
   "execution_count": 1,
   "id": "2b173ce1",
   "metadata": {},
   "outputs": [
    {
     "data": {
      "text/html": [
       "<div>\n",
       "<style scoped>\n",
       "    .dataframe tbody tr th:only-of-type {\n",
       "        vertical-align: middle;\n",
       "    }\n",
       "\n",
       "    .dataframe tbody tr th {\n",
       "        vertical-align: top;\n",
       "    }\n",
       "\n",
       "    .dataframe thead th {\n",
       "        text-align: right;\n",
       "    }\n",
       "</style>\n",
       "<table border=\"1\" class=\"dataframe\">\n",
       "  <thead>\n",
       "    <tr style=\"text-align: right;\">\n",
       "      <th></th>\n",
       "      <th>brand</th>\n",
       "      <th>model</th>\n",
       "      <th>model_year</th>\n",
       "      <th>milage</th>\n",
       "      <th>fuel_type</th>\n",
       "      <th>engine</th>\n",
       "      <th>transmission</th>\n",
       "      <th>ext_col</th>\n",
       "      <th>int_col</th>\n",
       "      <th>accident</th>\n",
       "      <th>clean_title</th>\n",
       "      <th>price</th>\n",
       "    </tr>\n",
       "  </thead>\n",
       "  <tbody>\n",
       "    <tr>\n",
       "      <th>0</th>\n",
       "      <td>Ford</td>\n",
       "      <td>Utility Police Interceptor Base</td>\n",
       "      <td>2013</td>\n",
       "      <td>51,000 mi.</td>\n",
       "      <td>E85 Flex Fuel</td>\n",
       "      <td>300.0HP 3.7L V6 Cylinder Engine Flex Fuel Capa...</td>\n",
       "      <td>6-Speed A/T</td>\n",
       "      <td>Black</td>\n",
       "      <td>Black</td>\n",
       "      <td>At least 1 accident or damage reported</td>\n",
       "      <td>Yes</td>\n",
       "      <td>$10,300</td>\n",
       "    </tr>\n",
       "    <tr>\n",
       "      <th>1</th>\n",
       "      <td>Hyundai</td>\n",
       "      <td>Palisade SEL</td>\n",
       "      <td>2021</td>\n",
       "      <td>34,742 mi.</td>\n",
       "      <td>Gasoline</td>\n",
       "      <td>3.8L V6 24V GDI DOHC</td>\n",
       "      <td>8-Speed Automatic</td>\n",
       "      <td>Moonlight Cloud</td>\n",
       "      <td>Gray</td>\n",
       "      <td>At least 1 accident or damage reported</td>\n",
       "      <td>Yes</td>\n",
       "      <td>$38,005</td>\n",
       "    </tr>\n",
       "    <tr>\n",
       "      <th>2</th>\n",
       "      <td>Lexus</td>\n",
       "      <td>RX 350 RX 350</td>\n",
       "      <td>2022</td>\n",
       "      <td>22,372 mi.</td>\n",
       "      <td>Gasoline</td>\n",
       "      <td>3.5 Liter DOHC</td>\n",
       "      <td>Automatic</td>\n",
       "      <td>Blue</td>\n",
       "      <td>Black</td>\n",
       "      <td>None reported</td>\n",
       "      <td>NaN</td>\n",
       "      <td>$54,598</td>\n",
       "    </tr>\n",
       "    <tr>\n",
       "      <th>3</th>\n",
       "      <td>INFINITI</td>\n",
       "      <td>Q50 Hybrid Sport</td>\n",
       "      <td>2015</td>\n",
       "      <td>88,900 mi.</td>\n",
       "      <td>Hybrid</td>\n",
       "      <td>354.0HP 3.5L V6 Cylinder Engine Gas/Electric H...</td>\n",
       "      <td>7-Speed A/T</td>\n",
       "      <td>Black</td>\n",
       "      <td>Black</td>\n",
       "      <td>None reported</td>\n",
       "      <td>Yes</td>\n",
       "      <td>$15,500</td>\n",
       "    </tr>\n",
       "    <tr>\n",
       "      <th>4</th>\n",
       "      <td>Audi</td>\n",
       "      <td>Q3 45 S line Premium Plus</td>\n",
       "      <td>2021</td>\n",
       "      <td>9,835 mi.</td>\n",
       "      <td>Gasoline</td>\n",
       "      <td>2.0L I4 16V GDI DOHC Turbo</td>\n",
       "      <td>8-Speed Automatic</td>\n",
       "      <td>Glacier White Metallic</td>\n",
       "      <td>Black</td>\n",
       "      <td>None reported</td>\n",
       "      <td>NaN</td>\n",
       "      <td>$34,999</td>\n",
       "    </tr>\n",
       "  </tbody>\n",
       "</table>\n",
       "</div>"
      ],
      "text/plain": [
       "      brand                            model  model_year      milage  \\\n",
       "0      Ford  Utility Police Interceptor Base        2013  51,000 mi.   \n",
       "1   Hyundai                     Palisade SEL        2021  34,742 mi.   \n",
       "2     Lexus                    RX 350 RX 350        2022  22,372 mi.   \n",
       "3  INFINITI                 Q50 Hybrid Sport        2015  88,900 mi.   \n",
       "4      Audi        Q3 45 S line Premium Plus        2021   9,835 mi.   \n",
       "\n",
       "       fuel_type                                             engine  \\\n",
       "0  E85 Flex Fuel  300.0HP 3.7L V6 Cylinder Engine Flex Fuel Capa...   \n",
       "1       Gasoline                               3.8L V6 24V GDI DOHC   \n",
       "2       Gasoline                                     3.5 Liter DOHC   \n",
       "3         Hybrid  354.0HP 3.5L V6 Cylinder Engine Gas/Electric H...   \n",
       "4       Gasoline                         2.0L I4 16V GDI DOHC Turbo   \n",
       "\n",
       "        transmission                 ext_col int_col  \\\n",
       "0        6-Speed A/T                   Black   Black   \n",
       "1  8-Speed Automatic         Moonlight Cloud    Gray   \n",
       "2          Automatic                    Blue   Black   \n",
       "3        7-Speed A/T                   Black   Black   \n",
       "4  8-Speed Automatic  Glacier White Metallic   Black   \n",
       "\n",
       "                                 accident clean_title    price  \n",
       "0  At least 1 accident or damage reported         Yes  $10,300  \n",
       "1  At least 1 accident or damage reported         Yes  $38,005  \n",
       "2                           None reported         NaN  $54,598  \n",
       "3                           None reported         Yes  $15,500  \n",
       "4                           None reported         NaN  $34,999  "
      ]
     },
     "execution_count": 1,
     "metadata": {},
     "output_type": "execute_result"
    }
   ],
   "source": [
    "import pandas as pd\n",
    "\n",
    "# Load dataset\n",
    "file_path = \"used_cars.csv\"  # Update this with your actual file path\n",
    "df = pd.read_csv(file_path)\n",
    "\n",
    "# Display first few rows\n",
    "df.head()\n"
   ]
  },
  {
   "cell_type": "code",
   "execution_count": 2,
   "id": "c3bb2c14",
   "metadata": {},
   "outputs": [
    {
     "name": "stdout",
     "output_type": "stream",
     "text": [
      "✅ Extracted 'engine_size' from 'engine' and dropped 'engine'.\n",
      "✅ Data preprocessing completed successfully.\n"
     ]
    }
   ],
   "source": [
    "# Convert 'milage' to numeric (remove \"mi.\" and commas)\n",
    "if 'milage' in df.columns:\n",
    "    df['milage'] = df['milage'].astype(str).str.replace(r' mi.', '', regex=True).str.replace(r',', '', regex=True).astype(float)\n",
    "else:\n",
    "    print(\"⚠️ Warning: 'milage' column not found in dataset. Skipping this step.\")\n",
    "\n",
    "# Convert 'price' to numeric (remove \"$\" and commas)\n",
    "if 'price' in df.columns:\n",
    "    df['price'] = df['price'].astype(str).str.replace(r'$', '', regex=True).str.replace(r',', '', regex=True).astype(float)\n",
    "else:\n",
    "    print(\"⚠️ Warning: 'price' column not found in dataset. Skipping this step.\")\n",
    "\n",
    "# Check if 'engine' column exists before extracting values\n",
    "if 'engine' in df.columns:\n",
    "    df['engine_size'] = df['engine'].str.extract(r'(\\d+\\.\\d+)').astype(float)\n",
    "    df.drop(columns=['engine'], inplace=True)  # Drop original column after extraction\n",
    "    print(\"✅ Extracted 'engine_size' from 'engine' and dropped 'engine'.\")\n",
    "elif 'engine_size' in df.columns:\n",
    "    print(\"✅ 'engine_size' column already exists. Skipping extraction step.\")\n",
    "else:\n",
    "    print(\"⚠️ Warning: 'engine' column not found in dataset. Skipping extraction.\")\n",
    "\n",
    "# Handle missing values\n",
    "df.fillna(df.median(numeric_only=True), inplace=True)  # Use numeric_only=True to avoid warnings\n",
    "df.fillna(\"Unknown\", inplace=True)  # Fill categorical missing values with \"Unknown\"\n",
    "\n",
    "# Verify changes\n",
    "print(\"✅ Data preprocessing completed successfully.\")\n"
   ]
  },
  {
   "cell_type": "code",
   "execution_count": 3,
   "id": "fa840ffa",
   "metadata": {},
   "outputs": [
    {
     "name": "stdout",
     "output_type": "stream",
     "text": [
      "<class 'pandas.core.frame.DataFrame'>\n",
      "RangeIndex: 4009 entries, 0 to 4008\n",
      "Columns: 604 entries, model_year to accident_Unknown\n",
      "dtypes: float64(3), int64(1), uint8(600)\n",
      "memory usage: 2.4 MB\n",
      "None\n"
     ]
    }
   ],
   "source": [
    "# Convert categorical variables into numerical format using One-Hot Encoding\n",
    "df_encoded = pd.get_dummies(df, columns=['brand', 'fuel_type', 'transmission', 'ext_col', 'int_col', 'clean_title', 'accident'], drop_first=True)\n",
    "\n",
    "# Drop 'model' column as it's not useful for prediction\n",
    "df_encoded.drop(columns=['model'], inplace=True, errors='ignore')\n",
    "\n",
    "# Check the new dataset structure\n",
    "print(df_encoded.info())\n"
   ]
  },
  {
   "cell_type": "code",
   "execution_count": 4,
   "id": "2efb1f8b",
   "metadata": {},
   "outputs": [
    {
     "name": "stdout",
     "output_type": "stream",
     "text": [
      "Training Data: 3207 samples\n",
      "Testing Data: 802 samples\n"
     ]
    }
   ],
   "source": [
    "from sklearn.model_selection import train_test_split\n",
    "\n",
    "# Define features (X) and target variable (y)\n",
    "X = df_encoded.drop(columns=['price'])  # Features (exclude target variable)\n",
    "y = df_encoded['price']  # Target variable\n",
    "\n",
    "# Split dataset into 80% training and 20% testing\n",
    "X_train, X_test, y_train, y_test = train_test_split(X, y, test_size=0.2, random_state=42)\n",
    "\n",
    "# Show data split details\n",
    "print(f\"Training Data: {X_train.shape[0]} samples\")\n",
    "print(f\"Testing Data: {X_test.shape[0]} samples\")\n"
   ]
  },
  {
   "cell_type": "code",
   "execution_count": 5,
   "id": "dd05a0ec",
   "metadata": {},
   "outputs": [
    {
     "name": "stdout",
     "output_type": "stream",
     "text": [
      "📊 Linear Regression Model Performance:\n",
      "✅ Mean Absolute Error (MAE): 24124.90\n",
      "✅ Mean Squared Error (MSE): 18777226564.13\n",
      "✅ R² Score: 0.0813\n"
     ]
    }
   ],
   "source": [
    "from sklearn.linear_model import LinearRegression\n",
    "from sklearn.metrics import mean_absolute_error, mean_squared_error, r2_score\n",
    "\n",
    "# Initialize the Linear Regression model\n",
    "lin_reg = LinearRegression()\n",
    "\n",
    "# Train the model\n",
    "lin_reg.fit(X_train, y_train)\n",
    "\n",
    "# Predict on the test set\n",
    "y_pred_lin = lin_reg.predict(X_test)\n",
    "\n",
    "# Evaluate the model\n",
    "mae_lin = mean_absolute_error(y_test, y_pred_lin)\n",
    "mse_lin = mean_squared_error(y_test, y_pred_lin)\n",
    "r2_lin = r2_score(y_test, y_pred_lin)\n",
    "\n",
    "# Display evaluation results\n",
    "print(\"📊 Linear Regression Model Performance:\")\n",
    "print(f\"✅ Mean Absolute Error (MAE): {mae_lin:.2f}\")\n",
    "print(f\"✅ Mean Squared Error (MSE): {mse_lin:.2f}\")\n",
    "print(f\"✅ R² Score: {r2_lin:.4f}\")\n"
   ]
  },
  {
   "cell_type": "code",
   "execution_count": 6,
   "id": "270820b3",
   "metadata": {},
   "outputs": [
    {
     "name": "stdout",
     "output_type": "stream",
     "text": [
      "📊 Decision Tree Regression Model Performance:\n",
      "✅ Mean Absolute Error (MAE): 20841.51\n",
      "✅ Mean Squared Error (MSE): 18365886955.96\n",
      "✅ R² Score: 0.1015\n"
     ]
    }
   ],
   "source": [
    "from sklearn.tree import DecisionTreeRegressor\n",
    "\n",
    "# Initialize the Decision Tree model\n",
    "dt_reg = DecisionTreeRegressor(random_state=42)\n",
    "\n",
    "# Train the model\n",
    "dt_reg.fit(X_train, y_train)\n",
    "\n",
    "# Predict on the test set\n",
    "y_pred_dt = dt_reg.predict(X_test)\n",
    "\n",
    "# Evaluate the model\n",
    "mae_dt = mean_absolute_error(y_test, y_pred_dt)\n",
    "mse_dt = mean_squared_error(y_test, y_pred_dt)\n",
    "r2_dt = r2_score(y_test, y_pred_dt)\n",
    "\n",
    "# Display evaluation results\n",
    "print(\"📊 Decision Tree Regression Model Performance:\")\n",
    "print(f\"✅ Mean Absolute Error (MAE): {mae_dt:.2f}\")\n",
    "print(f\"✅ Mean Squared Error (MSE): {mse_dt:.2f}\")\n",
    "print(f\"✅ R² Score: {r2_dt:.4f}\")\n"
   ]
  },
  {
   "cell_type": "code",
   "execution_count": 7,
   "id": "190e34fc",
   "metadata": {},
   "outputs": [
    {
     "name": "stdout",
     "output_type": "stream",
     "text": [
      "📊 Random Forest Regression Model Performance:\n",
      "✅ Mean Absolute Error (MAE): 17450.73\n",
      "✅ Mean Squared Error (MSE): 17631430558.04\n",
      "✅ R² Score: 0.1374\n"
     ]
    }
   ],
   "source": [
    "from sklearn.ensemble import RandomForestRegressor\n",
    "\n",
    "# Initialize the Random Forest model\n",
    "rf_reg = RandomForestRegressor(n_estimators=100, random_state=42)\n",
    "\n",
    "# Train the model\n",
    "rf_reg.fit(X_train, y_train)\n",
    "\n",
    "# Predict on the test set\n",
    "y_pred_rf = rf_reg.predict(X_test)\n",
    "\n",
    "# Evaluate the model\n",
    "mae_rf = mean_absolute_error(y_test, y_pred_rf)\n",
    "mse_rf = mean_squared_error(y_test, y_pred_rf)\n",
    "r2_rf = r2_score(y_test, y_pred_rf)\n",
    "\n",
    "# Display evaluation results\n",
    "print(\"📊 Random Forest Regression Model Performance:\")\n",
    "print(f\"✅ Mean Absolute Error (MAE): {mae_rf:.2f}\")\n",
    "print(f\"✅ Mean Squared Error (MSE): {mse_rf:.2f}\")\n",
    "print(f\"✅ R² Score: {r2_rf:.4f}\")\n"
   ]
  },
  {
   "cell_type": "code",
   "execution_count": 8,
   "id": "8a38e211",
   "metadata": {},
   "outputs": [
    {
     "name": "stdout",
     "output_type": "stream",
     "text": [
      "✅ Best Hyperparameters: {'max_depth': None, 'min_samples_leaf': 1, 'min_samples_split': 2, 'n_estimators': 200}\n",
      "\n",
      "📊 Fine-Tuned Random Forest Performance:\n",
      "✅ Mean Absolute Error (MAE): 17427.01\n",
      "✅ Mean Squared Error (MSE): 17628741074.90\n",
      "✅ R² Score: 0.1375\n"
     ]
    }
   ],
   "source": [
    "from sklearn.model_selection import GridSearchCV\n",
    "\n",
    "# Define the parameter grid\n",
    "param_grid = {\n",
    "    'n_estimators': [50, 100, 200],\n",
    "    'max_depth': [10, 20, None],\n",
    "    'min_samples_split': [2, 5, 10],\n",
    "    'min_samples_leaf': [1, 2, 5]\n",
    "}\n",
    "\n",
    "# Initialize the model\n",
    "rf_reg_tuned = RandomForestRegressor(random_state=42)\n",
    "\n",
    "# Perform Grid Search with 5-fold cross-validation\n",
    "grid_search = GridSearchCV(rf_reg_tuned, param_grid, cv=5, scoring='neg_mean_absolute_error', n_jobs=-1)\n",
    "grid_search.fit(X_train, y_train)\n",
    "\n",
    "# Get the best hyperparameters\n",
    "best_params = grid_search.best_params_\n",
    "print(\"✅ Best Hyperparameters:\", best_params)\n",
    "\n",
    "# Train the model using the best parameters\n",
    "rf_reg_best = RandomForestRegressor(**best_params, random_state=42)\n",
    "rf_reg_best.fit(X_train, y_train)\n",
    "\n",
    "# Predict on the test set\n",
    "y_pred_rf_best = rf_reg_best.predict(X_test)\n",
    "\n",
    "# Evaluate the fine-tuned model\n",
    "mae_rf_best = mean_absolute_error(y_test, y_pred_rf_best)\n",
    "mse_rf_best = mean_squared_error(y_test, y_pred_rf_best)\n",
    "r2_rf_best = r2_score(y_test, y_pred_rf_best)\n",
    "\n",
    "# Display evaluation results\n",
    "print(\"\\n📊 Fine-Tuned Random Forest Performance:\")\n",
    "print(f\"✅ Mean Absolute Error (MAE): {mae_rf_best:.2f}\")\n",
    "print(f\"✅ Mean Squared Error (MSE): {mse_rf_best:.2f}\")\n",
    "print(f\"✅ R² Score: {r2_rf_best:.4f}\")\n"
   ]
  },
  {
   "cell_type": "code",
   "execution_count": 9,
   "id": "343e1cba",
   "metadata": {},
   "outputs": [
    {
     "name": "stdout",
     "output_type": "stream",
     "text": [
      "📊 Model Validation Results:\n",
      "    model_year  milage  Predicted_Price\n",
      "0        2023   10000        53300.315\n",
      "1        2010  150000        10680.865\n"
     ]
    }
   ],
   "source": [
    "import numpy as np\n",
    "\n",
    "# Create a sample dataset for testing\n",
    "sample_data = pd.DataFrame({\n",
    "    'model_year': [2023, 2010],  # Recent vs. Old model year\n",
    "    'milage': [10_000, 150_000],  # Low vs. High mileage\n",
    "    'engine_size': [3.5, 2.0],  # Keeping engine size standard\n",
    "})\n",
    "\n",
    "# Add missing categorical features (set to 0)\n",
    "missing_features = [col for col in X_train.columns if col not in sample_data.columns]\n",
    "zero_features = pd.DataFrame(np.zeros((sample_data.shape[0], len(missing_features))), columns=missing_features)\n",
    "sample_data = pd.concat([sample_data, zero_features], axis=1)\n",
    "\n",
    "# Ensure column order matches training data\n",
    "sample_data = sample_data[X_train.columns]\n",
    "\n",
    "# Scale numerical features (ONLY if scaling was used)\n",
    "if 'scaler' in globals():  # Check if scaler exists\n",
    "    sample_data[numerical_features] = scaler.transform(sample_data[numerical_features])\n",
    "\n",
    "# Predict prices using the trained Random Forest model\n",
    "predicted_prices = rf_reg_best.predict(sample_data)\n",
    "\n",
    "# Display results\n",
    "sample_data['Predicted_Price'] = predicted_prices\n",
    "print(\"📊 Model Validation Results:\\n\", sample_data[['model_year', 'milage', 'Predicted_Price']])\n"
   ]
  },
  {
   "cell_type": "code",
   "execution_count": 10,
   "id": "590e0dbe",
   "metadata": {},
   "outputs": [
    {
     "name": "stdout",
     "output_type": "stream",
     "text": [
      "📊 Top 10 Most Important Features:\n",
      "                                            Feature  Importance\n",
      "1                                            milage    0.310374\n",
      "27                                brand_Lamborghini    0.129398\n",
      "48                                brand_Rolls-Royce    0.115967\n",
      "2                                       engine_size    0.094090\n",
      "15                                    brand_Ferrari    0.038371\n",
      "45                                    brand_Porsche    0.034844\n",
      "0                                        model_year    0.033936\n",
      "7                                     brand_Bentley    0.023283\n",
      "474                                  int_col_Brandy    0.019532\n",
      "90   transmission_7-Speed Automatic with Auto-Shift    0.017200\n"
     ]
    },
    {
     "data": {
      "image/png": "[encoded data removed]",
      "text/plain": [
       "<Figure size 864x432 with 1 Axes>"
      ]
     },
     "metadata": {
      "needs_background": "light"
     },
     "output_type": "display_data"
    }
   ],
   "source": [
    "import matplotlib.pyplot as plt\n",
    "import seaborn as sns\n",
    "\n",
    "# Get feature importance scores\n",
    "importances = rf_reg_best.feature_importances_\n",
    "features = X_train.columns\n",
    "\n",
    "# Convert to DataFrame for better visualization\n",
    "feature_importance_df = pd.DataFrame({\"Feature\": features, \"Importance\": importances})\n",
    "feature_importance_df = feature_importance_df.sort_values(by=\"Importance\", ascending=False)\n",
    "\n",
    "# Display top features\n",
    "print(\"📊 Top 10 Most Important Features:\")\n",
    "print(feature_importance_df.head(10))\n",
    "\n",
    "# Plot feature importance\n",
    "plt.figure(figsize=(12, 6))\n",
    "sns.barplot(x=feature_importance_df[\"Importance\"][:10], y=feature_importance_df[\"Feature\"][:10])\n",
    "plt.xlabel(\"Feature Importance Score\")\n",
    "plt.ylabel(\"Features\")\n",
    "plt.title(\"Top 10 Important Features for Car Price Prediction\")\n",
    "plt.show()\n"
   ]
  },
  {
   "cell_type": "code",
   "execution_count": 11,
   "id": "8dbcc6d5",
   "metadata": {},
   "outputs": [
    {
     "name": "stdout",
     "output_type": "stream",
     "text": [
      "✅ Selected Features: ['milage', 'model_year', 'brand_Alfa', 'brand_Aston', 'brand_Audi', 'brand_BMW', 'brand_Bentley', 'brand_Bugatti', 'brand_Buick', 'brand_Cadillac', 'brand_Chevrolet', 'brand_Chrysler', 'brand_Dodge', 'brand_FIAT', 'brand_Ferrari', 'brand_Ford', 'brand_GMC', 'brand_Genesis', 'brand_Honda', 'brand_Hummer', 'brand_Hyundai', 'brand_INFINITI', 'brand_Jaguar', 'brand_Jeep', 'brand_Karma', 'brand_Kia', 'brand_Lamborghini', 'brand_Land', 'brand_Lexus', 'brand_Lincoln', 'brand_Lotus', 'brand_Lucid', 'brand_MINI', 'brand_Maserati', 'brand_Maybach', 'brand_Mazda', 'brand_McLaren', 'brand_Mercedes-Benz', 'brand_Mercury', 'brand_Mitsubishi', 'brand_Nissan', 'brand_Plymouth', 'brand_Polestar', 'brand_Pontiac', 'brand_Porsche', 'brand_RAM', 'brand_Rivian', 'brand_Rolls-Royce', 'brand_Saab', 'brand_Saturn', 'brand_Scion', 'brand_Subaru', 'brand_Suzuki', 'brand_Tesla', 'brand_Toyota', 'brand_Volkswagen', 'brand_Volvo', 'brand_smart']\n",
      "New Training Shape: (3207, 58), Testing Shape: (802, 58)\n"
     ]
    }
   ],
   "source": [
    "# Keep only the most important features\n",
    "selected_features = ['milage', 'model_year']  # Numeric Features\n",
    "\n",
    "# Add all 'brand' columns (one-hot encoded)\n",
    "brand_features = [col for col in X_train.columns if 'brand_' in col]\n",
    "selected_features.extend(brand_features)\n",
    "\n",
    "# Create new datasets with only the selected features\n",
    "X_train_selected = X_train[selected_features]\n",
    "X_test_selected = X_test[selected_features]\n",
    "\n",
    "print(\"✅ Selected Features:\", selected_features)\n",
    "print(f\"New Training Shape: {X_train_selected.shape}, Testing Shape: {X_test_selected.shape}\")\n"
   ]
  },
  {
   "cell_type": "code",
   "execution_count": 12,
   "id": "2fb75248",
   "metadata": {},
   "outputs": [
    {
     "name": "stdout",
     "output_type": "stream",
     "text": [
      "\n",
      "📊 Fine-Tuned Random Forest (Selected Features) Performance:\n",
      "✅ Mean Absolute Error (MAE): 22240.36\n",
      "✅ Mean Squared Error (MSE): 18290335045.93\n",
      "✅ R² Score: 0.1052\n"
     ]
    }
   ],
   "source": [
    "# Initialize and train the new Random Forest model\n",
    "rf_reg_selected = RandomForestRegressor(n_estimators=200, random_state=42)\n",
    "rf_reg_selected.fit(X_train_selected, y_train)\n",
    "\n",
    "# Predict on the test set\n",
    "y_pred_rf_selected = rf_reg_selected.predict(X_test_selected)\n",
    "\n",
    "# Evaluate the model\n",
    "mae_rf_selected = mean_absolute_error(y_test, y_pred_rf_selected)\n",
    "mse_rf_selected = mean_squared_error(y_test, y_pred_rf_selected)\n",
    "r2_rf_selected = r2_score(y_test, y_pred_rf_selected)\n",
    "\n",
    "# Display results\n",
    "print(\"\\n📊 Fine-Tuned Random Forest (Selected Features) Performance:\")\n",
    "print(f\"✅ Mean Absolute Error (MAE): {mae_rf_selected:.2f}\")\n",
    "print(f\"✅ Mean Squared Error (MSE): {mse_rf_selected:.2f}\")\n",
    "print(f\"✅ R² Score: {r2_rf_selected:.4f}\")\n"
   ]
  },
  {
   "cell_type": "code",
   "execution_count": 13,
   "id": "9188c0e7",
   "metadata": {},
   "outputs": [
    {
     "name": "stdout",
     "output_type": "stream",
     "text": [
      "📊 Model Validation Results:\n",
      "    model_year  milage  Predicted_Price\n",
      "0        2023   10000        53300.315\n",
      "1        2010  150000        10680.865\n"
     ]
    }
   ],
   "source": [
    "import numpy as np\n",
    "\n",
    "# Create a test dataset with different mileage and model years\n",
    "test_data = pd.DataFrame({\n",
    "    'model_year': [2023, 2010],  # Newer vs. Older model year\n",
    "    'milage': [10_000, 150_000],  # Low vs. High mileage\n",
    "    'engine_size': [3.5, 2.0]  # Keeping engine size standard\n",
    "})\n",
    "\n",
    "# Add missing categorical features (brand-related)\n",
    "missing_features = [col for col in X_train.columns if col not in test_data.columns]\n",
    "zero_features = pd.DataFrame(np.zeros((test_data.shape[0], len(missing_features))), columns=missing_features)\n",
    "test_data = pd.concat([test_data, zero_features], axis=1)\n",
    "\n",
    "# Ensure column order matches training data\n",
    "test_data = test_data[X_train.columns]\n",
    "\n",
    "# Predict prices using the trained Random Forest model\n",
    "predicted_prices = rf_reg_best.predict(test_data)\n",
    "\n",
    "# Display results\n",
    "test_data['Predicted_Price'] = predicted_prices\n",
    "print(\"📊 Model Validation Results:\\n\", test_data[['model_year', 'milage', 'Predicted_Price']])\n"
   ]
  },
  {
   "cell_type": "code",
   "execution_count": 14,
   "id": "6a646a67",
   "metadata": {},
   "outputs": [
    {
     "name": "stdout",
     "output_type": "stream",
     "text": [
      "✅ Model saved as car_price_model.pkl\n"
     ]
    }
   ],
   "source": [
    "import pickle\n",
    "\n",
    "# Save the trained Random Forest model\n",
    "model_filename = \"car_price_model.pkl\"\n",
    "with open(model_filename, 'wb') as file:\n",
    "    pickle.dump(rf_reg_best, file)\n",
    "\n",
    "print(f\"✅ Model saved as {model_filename}\")\n"
   ]
  },
  {
   "cell_type": "code",
   "execution_count": null,
   "id": "ffc7c52e",
   "metadata": {},
   "outputs": [],
   "source": []
  }
 ],
 "metadata": {
  "kernelspec": {
   "display_name": "Python 3 (ipykernel)",
   "language": "python",
   "name": "python3"
  },
  "language_info": {
   "codemirror_mode": {
    "name": "ipython",
    "version": 3
   },
   "file_extension": ".py",
   "mimetype": "text/x-python",
   "name": "python",
   "nbconvert_exporter": "python",
   "pygments_lexer": "ipython3",
   "version": "3.9.7"
  }
 },
 "nbformat": 4,
 "nbformat_minor": 5
}
